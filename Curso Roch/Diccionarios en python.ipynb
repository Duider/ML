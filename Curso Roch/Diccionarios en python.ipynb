{
 "cells": [
  {
   "cell_type": "markdown",
   "id": "e87c1a89",
   "metadata": {},
   "source": [
    "### Son una estructura de datos cuya principal caracteristica es que los datos se almacenan asociados a campos o claves, de manera que se crea una asociación  \"clave: valor\" para cada elemento "
   ]
  },
  {
   "cell_type": "code",
   "execution_count": 1,
   "id": "361355a2",
   "metadata": {},
   "outputs": [],
   "source": [
    "# Creando un diccionario sencillo\n",
    "\n",
    "diccionario_idiomas = {\"Argentina\":\"Castellano\",\n",
    "                       \"Holanda\":\"Inglés\",\n",
    "                        \"Brasil\": \"Portugués\",\n",
    "                         \"Alemania\": \"Alemán\"\n",
    "                        }"
   ]
  },
  {
   "cell_type": "code",
   "execution_count": 6,
   "id": "556f530b",
   "metadata": {},
   "outputs": [
    {
     "data": {
      "text/plain": [
       "'Castellano'"
      ]
     },
     "execution_count": 6,
     "metadata": {},
     "output_type": "execute_result"
    }
   ],
   "source": [
    "diccionario_idiomas[\"Argentina\"]"
   ]
  },
  {
   "cell_type": "code",
   "execution_count": 7,
   "id": "05ab4fea",
   "metadata": {},
   "outputs": [
    {
     "data": {
      "text/plain": [
       "dict"
      ]
     },
     "execution_count": 7,
     "metadata": {},
     "output_type": "execute_result"
    }
   ],
   "source": [
    "type(diccionario_idiomas)"
   ]
  },
  {
   "cell_type": "code",
   "execution_count": 9,
   "id": "087fd64b",
   "metadata": {},
   "outputs": [
    {
     "data": {
      "text/plain": [
       "{'Argentina': 'Castellano',\n",
       " 'Holanda': 'Inglés',\n",
       " 'Brasil': 'Portugués',\n",
       " 'Alemania': 'Alemán'}"
      ]
     },
     "execution_count": 9,
     "metadata": {},
     "output_type": "execute_result"
    }
   ],
   "source": [
    "#Segunda forma de crear un diccionario\n",
    "tupla_paises = (\"Argentina\", \"Holanda\", \"Brasil\", \"Alemania\")\n",
    "diccionario_idiomas={tupla_paises[0]: \"Castellano\",\n",
    "                     tupla_paises[1]: \"Inglés\",\n",
    "                     tupla_paises[2]: \"Portugués\",\n",
    "                     tupla_paises[3]: \"Alemán\"\n",
    "                    }\n",
    "diccionario_idiomas"
   ]
  },
  {
   "cell_type": "code",
   "execution_count": 18,
   "id": "ae12a173",
   "metadata": {},
   "outputs": [
    {
     "data": {
      "text/plain": [
       "{'Nombre': 'Lucas',\n",
       " 'Edad': 17,\n",
       " 'Profesión': 'Estudiante',\n",
       " 'Idiomas dominados': ['Español', 'Inglés', 'Francés']}"
      ]
     },
     "execution_count": 18,
     "metadata": {},
     "output_type": "execute_result"
    }
   ],
   "source": [
    "# Listas adentro de un diccionario \n",
    "nombre = \"Lucas\"\n",
    "edad = 17\n",
    "profesion = \"Estudiante\"\n",
    "idiomas = [\"Español\", \"Inglés\", \"Francés\"]\n",
    "\n",
    "datos_2 = {\"Nombre\": nombre,\n",
    "           \"Edad\": edad,\n",
    "           \"Profesión\": profesion,\n",
    "           \"Idiomas dominados\": idiomas}\n",
    "datos_2\n",
    "    "
   ]
  },
  {
   "cell_type": "code",
   "execution_count": 13,
   "id": "39ac92db",
   "metadata": {},
   "outputs": [
    {
     "data": {
      "text/plain": [
       "4"
      ]
     },
     "execution_count": 13,
     "metadata": {},
     "output_type": "execute_result"
    }
   ],
   "source": [
    "len(datos_2)"
   ]
  },
  {
   "cell_type": "code",
   "execution_count": 14,
   "id": "d300ecc8",
   "metadata": {},
   "outputs": [
    {
     "data": {
      "text/plain": [
       "dict_keys(['Nombre', 'Edad', 'Profesión', 'Idiomas dominados'])"
      ]
     },
     "execution_count": 14,
     "metadata": {},
     "output_type": "execute_result"
    }
   ],
   "source": [
    "datos_2.keys()"
   ]
  },
  {
   "cell_type": "code",
   "execution_count": 15,
   "id": "f4903275",
   "metadata": {},
   "outputs": [
    {
     "data": {
      "text/plain": [
       "dict_values(['Lucas', 17, 'Estudiante', ['Español', 'Inglés', 'Francés']])"
      ]
     },
     "execution_count": 15,
     "metadata": {},
     "output_type": "execute_result"
    }
   ],
   "source": [
    "datos_2.values()"
   ]
  },
  {
   "cell_type": "code",
   "execution_count": 20,
   "id": "7058ddbf",
   "metadata": {
    "collapsed": true
   },
   "outputs": [
    {
     "data": {
      "text/plain": [
       "{'Español': '%100', 'Inglés': '%73', 'Francés': '%45'}"
      ]
     },
     "execution_count": 20,
     "metadata": {},
     "output_type": "execute_result"
    }
   ],
   "source": [
    "# Diccionario adentro de un diccionario\n",
    "nombre = \"Lucas\"\n",
    "edad = 17\n",
    "profesion = \"Estudiante\"\n",
    "idiomas = {\"Español\":\"%100\",\n",
    "           \"Inglés\": \"%73\",\n",
    "           \"Francés\":\"%45\"}\n",
    "\n",
    "datos_2 = {\"Nombre\": nombre,\n",
    "           \"Edad\": edad,\n",
    "           \"Profesión\": profesion,\n",
    "           \"Idiomas dominados\": idiomas}\n",
    "\n",
    "datos_2[\"Idiomas dominados\"]\n",
    "    "
   ]
  },
  {
   "cell_type": "code",
   "execution_count": 21,
   "id": "63fcbd78",
   "metadata": {},
   "outputs": [
    {
     "data": {
      "text/html": [
       "<div>\n",
       "<style scoped>\n",
       "    .dataframe tbody tr th:only-of-type {\n",
       "        vertical-align: middle;\n",
       "    }\n",
       "\n",
       "    .dataframe tbody tr th {\n",
       "        vertical-align: top;\n",
       "    }\n",
       "\n",
       "    .dataframe thead th {\n",
       "        text-align: right;\n",
       "    }\n",
       "</style>\n",
       "<table border=\"1\" class=\"dataframe\">\n",
       "  <thead>\n",
       "    <tr style=\"text-align: right;\">\n",
       "      <th></th>\n",
       "      <th>Nombre</th>\n",
       "      <th>Edad</th>\n",
       "      <th>Profesión</th>\n",
       "      <th>Idiomas dominados</th>\n",
       "    </tr>\n",
       "  </thead>\n",
       "  <tbody>\n",
       "    <tr>\n",
       "      <th>Español</th>\n",
       "      <td>Lucas</td>\n",
       "      <td>17</td>\n",
       "      <td>Estudiante</td>\n",
       "      <td>%100</td>\n",
       "    </tr>\n",
       "    <tr>\n",
       "      <th>Francés</th>\n",
       "      <td>Lucas</td>\n",
       "      <td>17</td>\n",
       "      <td>Estudiante</td>\n",
       "      <td>%45</td>\n",
       "    </tr>\n",
       "    <tr>\n",
       "      <th>Inglés</th>\n",
       "      <td>Lucas</td>\n",
       "      <td>17</td>\n",
       "      <td>Estudiante</td>\n",
       "      <td>%73</td>\n",
       "    </tr>\n",
       "  </tbody>\n",
       "</table>\n",
       "</div>"
      ],
      "text/plain": [
       "        Nombre  Edad   Profesión Idiomas dominados\n",
       "Español  Lucas    17  Estudiante              %100\n",
       "Francés  Lucas    17  Estudiante               %45\n",
       "Inglés   Lucas    17  Estudiante               %73"
      ]
     },
     "execution_count": 21,
     "metadata": {},
     "output_type": "execute_result"
    }
   ],
   "source": [
    "#Convertir diccionario a Dataframe\n",
    "import pandas as pd\n",
    "\n",
    "dict_df = pd.DataFrame.from_dict(datos_2)\n",
    "dict_df"
   ]
  },
  {
   "cell_type": "code",
   "execution_count": 22,
   "id": "ec6305aa",
   "metadata": {},
   "outputs": [
    {
     "data": {
      "text/plain": [
       "'%45'"
      ]
     },
     "execution_count": 22,
     "metadata": {},
     "output_type": "execute_result"
    }
   ],
   "source": [
    "#Acceder a valores de un diccionario interno\n",
    "datos_2[\"Idiomas dominados\"][\"Francés\"]"
   ]
  },
  {
   "cell_type": "code",
   "execution_count": 24,
   "id": "e7aba080",
   "metadata": {},
   "outputs": [
    {
     "data": {
      "text/plain": [
       "{'Argentina': 'Castellano',\n",
       " 'Holanda': 'Inglés',\n",
       " 'Brasil': 'Portugués',\n",
       " 'Alemania': 'Alemán',\n",
       " 'Nombre': 'Lucas',\n",
       " 'Edad': 17,\n",
       " 'Profesión': 'Estudiante',\n",
       " 'Idiomas dominados': {'Español': '%100', 'Inglés': '%73', 'Francés': '%45'}}"
      ]
     },
     "execution_count": 24,
     "metadata": {},
     "output_type": "execute_result"
    }
   ],
   "source": [
    "#Combinar dos diccionarios en uno solo\n",
    "datos_3 = dict(diccionario_idiomas, **datos_2)\n",
    "datos_3"
   ]
  },
  {
   "cell_type": "code",
   "execution_count": 25,
   "id": "dbd4d451",
   "metadata": {},
   "outputs": [],
   "source": [
    "#Convertir diccionario en archivo Json\n",
    "import json\n",
    "with open(\"Diccionario.json\", \"w\") as archivo_json:\n",
    "    json.dump(datos_3, archivo_json, ensure_ascii=False) \n",
    "#ensure_ascii= False hace que no se modifiquen ni los acentos ni los caracteres \n"
   ]
  },
  {
   "cell_type": "code",
   "execution_count": 26,
   "id": "e4265fa4",
   "metadata": {},
   "outputs": [
    {
     "data": {
      "text/plain": [
       "{}"
      ]
     },
     "execution_count": 26,
     "metadata": {},
     "output_type": "execute_result"
    }
   ],
   "source": [
    "#Borrar toda la información de un diccionario\n",
    "datos_2.clear()\n",
    "datos_2"
   ]
  },
  {
   "cell_type": "code",
   "execution_count": 28,
   "id": "b788fed9",
   "metadata": {},
   "outputs": [
    {
     "data": {
      "text/plain": [
       "{'Argentina': 'Castellano',\n",
       " 'Holanda': 'Inglés',\n",
       " 'Brasil': 'Portugués',\n",
       " 'Alemania': 'Alemán',\n",
       " 'Italia': 'Italiano'}"
      ]
     },
     "execution_count": 28,
     "metadata": {},
     "output_type": "execute_result"
    }
   ],
   "source": [
    "#Agregar elementos\n",
    "\n",
    "diccionario_idiomas[\"Italia\"] = \"Italiano\"\n",
    "diccionario_idiomas\n",
    "# Si ya existe la key \"Italia\" el nuevo valor va a remplazar al antiguo"
   ]
  },
  {
   "cell_type": "code",
   "execution_count": 29,
   "id": "2f34c389",
   "metadata": {},
   "outputs": [
    {
     "data": {
      "text/plain": [
       "{'Argentina': 'Castellano',\n",
       " 'Holanda': 'Inglés',\n",
       " 'Brasil': 'Portugués',\n",
       " 'Alemania': 'Alemán'}"
      ]
     },
     "execution_count": 29,
     "metadata": {},
     "output_type": "execute_result"
    }
   ],
   "source": [
    "#ELiminar una key del diccionario\n",
    "del diccionario_idiomas[\"Italia\"]\n",
    "diccionario_idiomas"
   ]
  },
  {
   "cell_type": "code",
   "execution_count": null,
   "id": "b5ddfef9",
   "metadata": {},
   "outputs": [],
   "source": [
    "#ELiminar una todo el diccionario\n",
    "del diccionario_idiomas"
   ]
  },
  {
   "cell_type": "code",
   "execution_count": null,
   "id": "81d814cc",
   "metadata": {},
   "outputs": [],
   "source": []
  },
  {
   "cell_type": "code",
   "execution_count": null,
   "id": "13629382",
   "metadata": {},
   "outputs": [],
   "source": []
  },
  {
   "cell_type": "code",
   "execution_count": null,
   "id": "eab0f1c8",
   "metadata": {},
   "outputs": [],
   "source": []
  },
  {
   "cell_type": "code",
   "execution_count": null,
   "id": "705f9c3b",
   "metadata": {},
   "outputs": [],
   "source": []
  },
  {
   "cell_type": "code",
   "execution_count": null,
   "id": "7c67ece2",
   "metadata": {},
   "outputs": [],
   "source": []
  },
  {
   "cell_type": "code",
   "execution_count": null,
   "id": "84207c09",
   "metadata": {},
   "outputs": [],
   "source": []
  },
  {
   "cell_type": "code",
   "execution_count": null,
   "id": "25c8685d",
   "metadata": {},
   "outputs": [],
   "source": []
  }
 ],
 "metadata": {
  "kernelspec": {
   "display_name": "Python 3 (ipykernel)",
   "language": "python",
   "name": "python3"
  },
  "language_info": {
   "codemirror_mode": {
    "name": "ipython",
    "version": 3
   },
   "file_extension": ".py",
   "mimetype": "text/x-python",
   "name": "python",
   "nbconvert_exporter": "python",
   "pygments_lexer": "ipython3",
   "version": "3.10.9"
  }
 },
 "nbformat": 4,
 "nbformat_minor": 5
}
