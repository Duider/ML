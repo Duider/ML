{
 "cells": [
  {
   "cell_type": "code",
   "execution_count": 1,
   "id": "820d9e37",
   "metadata": {},
   "outputs": [],
   "source": [
    "#Forma parte del pre procesamiento de datos"
   ]
  },
  {
   "cell_type": "code",
   "execution_count": 2,
   "id": "e85863c5",
   "metadata": {},
   "outputs": [],
   "source": [
    "# Los outliers son datos muy diferente al resto. En algunos casos se buscan sacarlos para hacer un mejor analisis."
   ]
  },
  {
   "cell_type": "code",
   "execution_count": 3,
   "id": "d27d1336",
   "metadata": {},
   "outputs": [],
   "source": [
    "import numpy as np\n",
    "import pandas as pd\n",
    "import matplotlib.pyplot as plt\n",
    "\n",
    "%matplotlib inline"
   ]
  },
  {
   "cell_type": "code",
   "execution_count": 4,
   "id": "8960b7f2",
   "metadata": {},
   "outputs": [
    {
     "name": "stdout",
     "output_type": "stream",
     "text": [
      "<class 'pandas.core.frame.DataFrame'>\n",
      "Int64Index: 141 entries, 1 to 141\n",
      "Data columns (total 1 columns):\n",
      " #   Column  Non-Null Count  Dtype\n",
      "---  ------  --------------  -----\n",
      " 0   Millas  141 non-null    int64\n",
      "dtypes: int64(1)\n",
      "memory usage: 2.2 KB\n"
     ]
    }
   ],
   "source": [
    "rios = pd.read_csv(\"../arch/Rios.csv\", engine=\"python\", index_col=0)\n",
    "rios.info()"
   ]
  },
  {
   "cell_type": "code",
   "execution_count": 5,
   "id": "74330814",
   "metadata": {},
   "outputs": [
    {
     "data": {
      "text/html": [
       "<div>\n",
       "<style scoped>\n",
       "    .dataframe tbody tr th:only-of-type {\n",
       "        vertical-align: middle;\n",
       "    }\n",
       "\n",
       "    .dataframe tbody tr th {\n",
       "        vertical-align: top;\n",
       "    }\n",
       "\n",
       "    .dataframe thead th {\n",
       "        text-align: right;\n",
       "    }\n",
       "</style>\n",
       "<table border=\"1\" class=\"dataframe\">\n",
       "  <thead>\n",
       "    <tr style=\"text-align: right;\">\n",
       "      <th></th>\n",
       "      <th>Millas</th>\n",
       "    </tr>\n",
       "    <tr>\n",
       "      <th>Rio</th>\n",
       "      <th></th>\n",
       "    </tr>\n",
       "  </thead>\n",
       "  <tbody>\n",
       "    <tr>\n",
       "      <th>1</th>\n",
       "      <td>735</td>\n",
       "    </tr>\n",
       "    <tr>\n",
       "      <th>2</th>\n",
       "      <td>320</td>\n",
       "    </tr>\n",
       "    <tr>\n",
       "      <th>3</th>\n",
       "      <td>325</td>\n",
       "    </tr>\n",
       "    <tr>\n",
       "      <th>4</th>\n",
       "      <td>392</td>\n",
       "    </tr>\n",
       "    <tr>\n",
       "      <th>5</th>\n",
       "      <td>524</td>\n",
       "    </tr>\n",
       "    <tr>\n",
       "      <th>...</th>\n",
       "      <td>...</td>\n",
       "    </tr>\n",
       "    <tr>\n",
       "      <th>137</th>\n",
       "      <td>720</td>\n",
       "    </tr>\n",
       "    <tr>\n",
       "      <th>138</th>\n",
       "      <td>270</td>\n",
       "    </tr>\n",
       "    <tr>\n",
       "      <th>139</th>\n",
       "      <td>430</td>\n",
       "    </tr>\n",
       "    <tr>\n",
       "      <th>140</th>\n",
       "      <td>671</td>\n",
       "    </tr>\n",
       "    <tr>\n",
       "      <th>141</th>\n",
       "      <td>1770</td>\n",
       "    </tr>\n",
       "  </tbody>\n",
       "</table>\n",
       "<p>141 rows × 1 columns</p>\n",
       "</div>"
      ],
      "text/plain": [
       "     Millas\n",
       "Rio        \n",
       "1       735\n",
       "2       320\n",
       "3       325\n",
       "4       392\n",
       "5       524\n",
       "..      ...\n",
       "137     720\n",
       "138     270\n",
       "139     430\n",
       "140     671\n",
       "141    1770\n",
       "\n",
       "[141 rows x 1 columns]"
      ]
     },
     "execution_count": 5,
     "metadata": {},
     "output_type": "execute_result"
    }
   ],
   "source": [
    "rios"
   ]
  },
  {
   "cell_type": "code",
   "execution_count": 6,
   "id": "27b8955d",
   "metadata": {},
   "outputs": [
    {
     "data": {
      "image/png": "[encoded data removed]",
      "text/plain": [
       "<Figure size 640x480 with 1 Axes>"
      ]
     },
     "metadata": {},
     "output_type": "display_data"
    }
   ],
   "source": [
    "# Creamos un histograma para ver la distribución de los valores\n",
    "plt.title(\"Rios\")\n",
    "plt.hist(rios[\"Millas\"], edgecolor=\"black\", linewidth=1.5)\n",
    "plt.show() #.show() evita que se despliegue el resultado en forma de texto\n",
    " "
   ]
  },
  {
   "cell_type": "code",
   "execution_count": 7,
   "id": "fe066a10",
   "metadata": {},
   "outputs": [
    {
     "data": {
      "image/png": "[encoded data removed]",
      "text/plain": [
       "<Figure size 640x480 with 1 Axes>"
      ]
     },
     "metadata": {},
     "output_type": "display_data"
    }
   ],
   "source": [
    "plt.boxplot(rios[\"Millas\"], vert=False)\n",
    "plt.show()\n",
    "#El primer cuartil es igual al extremo izquierdo de la caja \n",
    "#El tercer cuartil es igual al extremo derecho de la caja \n",
    "#La mediana es la linea amarilla de adentro de la caja\n"
   ]
  },
  {
   "cell_type": "code",
   "execution_count": 8,
   "id": "b8567ae9",
   "metadata": {},
   "outputs": [
    {
     "name": "stdout",
     "output_type": "stream",
     "text": [
      "Primer Cuartil 310.0\n",
      "Tercer Cuartil 680.0\n",
      "Rango Intercuartil 370.0\n",
      "Mediana 425.0\n",
      "Valor minimo 135\n",
      "Valor maximo 3710\n"
     ]
    }
   ],
   "source": [
    "Q1 = rios[\"Millas\"].quantile(0.25)\n",
    "print(\"Primer Cuartil\",Q1)\n",
    "\n",
    "Q3 = rios[\"Millas\"].quantile(0.75)\n",
    "print(\"Tercer Cuartil\",Q3)\n",
    "\n",
    "IQR  = Q3 - Q1\n",
    "print(\"Rango Intercuartil\", IQR)\n",
    "\n",
    "Mediana = rios[\"Millas\"].median()\n",
    "print(\"Mediana\", Mediana)\n",
    "\n",
    "valor_minimo = rios[\"Millas\"].min()\n",
    "print(\"Valor minimo\",valor_minimo)\n",
    "\n",
    "valor_maximo = rios[\"Millas\"].max()\n",
    "print(\"Valor maximo\",valor_maximo)"
   ]
  },
  {
   "cell_type": "code",
   "execution_count": 9,
   "id": "9b024c38",
   "metadata": {},
   "outputs": [
    {
     "name": "stdout",
     "output_type": "stream",
     "text": [
      "BI_Calculado -245.0\n",
      "BSCalculado 1235.0\n"
     ]
    }
   ],
   "source": [
    "#Calculo de los bigotes. BI= bigote inferior. BS=bigote superior\n",
    "BI_Calculado = (Q1-1.5*IQR)\n",
    "print(\"BI_Calculado\",BI_Calculado)\n",
    "\n",
    "BS_Calculado = (Q3+1.5*IQR)\n",
    "print(\"BSCalculado\",BS_Calculado)\n"
   ]
  },
  {
   "cell_type": "code",
   "execution_count": 10,
   "id": "f0d5a062",
   "metadata": {},
   "outputs": [
    {
     "name": "stdout",
     "output_type": "stream",
     "text": [
      "Ubicación de Outliers  Rio\n",
      "1      False\n",
      "2      False\n",
      "3      False\n",
      "4      False\n",
      "5      False\n",
      "       ...  \n",
      "137    False\n",
      "138    False\n",
      "139    False\n",
      "140    False\n",
      "141     True\n",
      "Name: Millas, Length: 141, dtype: bool\n"
     ]
    }
   ],
   "source": [
    "#como detectar los outliers\n",
    "ubicacion_outliers = (rios[\"Millas\"] < BI_Calculado) | (rios[\"Millas\"] > BS_Calculado)\n",
    "print(\"Ubicación de Outliers \", ubicacion_outliers)"
   ]
  },
  {
   "cell_type": "code",
   "execution_count": 11,
   "id": "cfd53396",
   "metadata": {},
   "outputs": [
    {
     "name": "stdout",
     "output_type": "stream",
     "text": [
      "Lista de Outliers      Millas\n",
      "Rio        \n",
      "7      1459\n",
      "23     1450\n",
      "25     1243\n",
      "66     2348\n",
      "68     3710\n",
      "69     2315\n",
      "70     2533\n",
      "83     1306\n",
      "98     1270\n",
      "101    1885\n",
      "141    1770\n"
     ]
    }
   ],
   "source": [
    "outliers = rios[ubicacion_outliers]\n",
    "print(\"Lista de Outliers\", outliers)"
   ]
  },
  {
   "cell_type": "code",
   "execution_count": 12,
   "id": "586ef121",
   "metadata": {},
   "outputs": [
    {
     "data": {
      "text/html": [
       "<div>\n",
       "<style scoped>\n",
       "    .dataframe tbody tr th:only-of-type {\n",
       "        vertical-align: middle;\n",
       "    }\n",
       "\n",
       "    .dataframe tbody tr th {\n",
       "        vertical-align: top;\n",
       "    }\n",
       "\n",
       "    .dataframe thead th {\n",
       "        text-align: right;\n",
       "    }\n",
       "</style>\n",
       "<table border=\"1\" class=\"dataframe\">\n",
       "  <thead>\n",
       "    <tr style=\"text-align: right;\">\n",
       "      <th></th>\n",
       "      <th>Millas</th>\n",
       "    </tr>\n",
       "    <tr>\n",
       "      <th>Rio</th>\n",
       "      <th></th>\n",
       "    </tr>\n",
       "  </thead>\n",
       "  <tbody>\n",
       "    <tr>\n",
       "      <th>25</th>\n",
       "      <td>1243</td>\n",
       "    </tr>\n",
       "    <tr>\n",
       "      <th>98</th>\n",
       "      <td>1270</td>\n",
       "    </tr>\n",
       "    <tr>\n",
       "      <th>83</th>\n",
       "      <td>1306</td>\n",
       "    </tr>\n",
       "    <tr>\n",
       "      <th>23</th>\n",
       "      <td>1450</td>\n",
       "    </tr>\n",
       "    <tr>\n",
       "      <th>7</th>\n",
       "      <td>1459</td>\n",
       "    </tr>\n",
       "    <tr>\n",
       "      <th>141</th>\n",
       "      <td>1770</td>\n",
       "    </tr>\n",
       "    <tr>\n",
       "      <th>101</th>\n",
       "      <td>1885</td>\n",
       "    </tr>\n",
       "    <tr>\n",
       "      <th>69</th>\n",
       "      <td>2315</td>\n",
       "    </tr>\n",
       "    <tr>\n",
       "      <th>66</th>\n",
       "      <td>2348</td>\n",
       "    </tr>\n",
       "    <tr>\n",
       "      <th>70</th>\n",
       "      <td>2533</td>\n",
       "    </tr>\n",
       "    <tr>\n",
       "      <th>68</th>\n",
       "      <td>3710</td>\n",
       "    </tr>\n",
       "  </tbody>\n",
       "</table>\n",
       "</div>"
      ],
      "text/plain": [
       "     Millas\n",
       "Rio        \n",
       "25     1243\n",
       "98     1270\n",
       "83     1306\n",
       "23     1450\n",
       "7      1459\n",
       "141    1770\n",
       "101    1885\n",
       "69     2315\n",
       "66     2348\n",
       "70     2533\n",
       "68     3710"
      ]
     },
     "execution_count": 12,
     "metadata": {},
     "output_type": "execute_result"
    }
   ],
   "source": [
    "outliers_ordenados = outliers.sort_values(\"Millas\")\n",
    "outliers_ordenados"
   ]
  },
  {
   "cell_type": "code",
   "execution_count": 13,
   "id": "70a97ca7",
   "metadata": {},
   "outputs": [
    {
     "data": {
      "text/html": [
       "<div>\n",
       "<style scoped>\n",
       "    .dataframe tbody tr th:only-of-type {\n",
       "        vertical-align: middle;\n",
       "    }\n",
       "\n",
       "    .dataframe tbody tr th {\n",
       "        vertical-align: top;\n",
       "    }\n",
       "\n",
       "    .dataframe thead th {\n",
       "        text-align: right;\n",
       "    }\n",
       "</style>\n",
       "<table border=\"1\" class=\"dataframe\">\n",
       "  <thead>\n",
       "    <tr style=\"text-align: right;\">\n",
       "      <th></th>\n",
       "      <th>Millas</th>\n",
       "    </tr>\n",
       "    <tr>\n",
       "      <th>Rio</th>\n",
       "      <th></th>\n",
       "    </tr>\n",
       "  </thead>\n",
       "  <tbody>\n",
       "    <tr>\n",
       "      <th>1</th>\n",
       "      <td>735</td>\n",
       "    </tr>\n",
       "    <tr>\n",
       "      <th>2</th>\n",
       "      <td>320</td>\n",
       "    </tr>\n",
       "    <tr>\n",
       "      <th>3</th>\n",
       "      <td>325</td>\n",
       "    </tr>\n",
       "    <tr>\n",
       "      <th>4</th>\n",
       "      <td>392</td>\n",
       "    </tr>\n",
       "    <tr>\n",
       "      <th>5</th>\n",
       "      <td>524</td>\n",
       "    </tr>\n",
       "    <tr>\n",
       "      <th>...</th>\n",
       "      <td>...</td>\n",
       "    </tr>\n",
       "    <tr>\n",
       "      <th>136</th>\n",
       "      <td>500</td>\n",
       "    </tr>\n",
       "    <tr>\n",
       "      <th>137</th>\n",
       "      <td>720</td>\n",
       "    </tr>\n",
       "    <tr>\n",
       "      <th>138</th>\n",
       "      <td>270</td>\n",
       "    </tr>\n",
       "    <tr>\n",
       "      <th>139</th>\n",
       "      <td>430</td>\n",
       "    </tr>\n",
       "    <tr>\n",
       "      <th>140</th>\n",
       "      <td>671</td>\n",
       "    </tr>\n",
       "  </tbody>\n",
       "</table>\n",
       "<p>130 rows × 1 columns</p>\n",
       "</div>"
      ],
      "text/plain": [
       "     Millas\n",
       "Rio        \n",
       "1       735\n",
       "2       320\n",
       "3       325\n",
       "4       392\n",
       "5       524\n",
       "..      ...\n",
       "136     500\n",
       "137     720\n",
       "138     270\n",
       "139     430\n",
       "140     671\n",
       "\n",
       "[130 rows x 1 columns]"
      ]
     },
     "execution_count": 13,
     "metadata": {},
     "output_type": "execute_result"
    }
   ],
   "source": [
    "#Valores que no son outliers\n",
    "ubicacion_sin_out = (rios[\"Millas\"] >= BI_Calculado) & (rios[\"Millas\"] <= BS_Calculado)\n",
    "sin_outliers = rios[ubicacion_sin_out]\n",
    "sin_outliers"
   ]
  },
  {
   "cell_type": "code",
   "execution_count": 14,
   "id": "ccf59dc3",
   "metadata": {},
   "outputs": [
    {
     "data": {
      "image/png": "[encoded data removed]",
      "text/plain": [
       "<Figure size 640x480 with 1 Axes>"
      ]
     },
     "metadata": {},
     "output_type": "display_data"
    }
   ],
   "source": [
    "#Hago un grafico de caja y bigotes para ver si \"sin outliers\" tiene más outliers\n",
    "plt.title(\"Sin Outliers\")\n",
    "plt.boxplot(sin_outliers[\"Millas\"],vert=False)\n",
    "plt.show()\n",
    "#Al ver el grafico podemos ver que hay más outliers\n",
    "#Se puede seguir haciendo el proceso hasta que noShayan mas outliers"
   ]
  },
  {
   "cell_type": "code",
   "execution_count": null,
   "id": "6ef105c1",
   "metadata": {},
   "outputs": [],
   "source": []
  },
  {
   "cell_type": "code",
   "execution_count": null,
   "id": "902c6712",
   "metadata": {},
   "outputs": [],
   "source": []
  },
  {
   "cell_type": "code",
   "execution_count": null,
   "id": "3d33cd70",
   "metadata": {},
   "outputs": [],
   "source": []
  },
  {
   "cell_type": "code",
   "execution_count": null,
   "id": "3b54a4a4",
   "metadata": {},
   "outputs": [],
   "source": []
  },
  {
   "cell_type": "code",
   "execution_count": null,
   "id": "6fc98d69",
   "metadata": {},
   "outputs": [],
   "source": []
  },
  {
   "cell_type": "code",
   "execution_count": null,
   "id": "812cd5b9",
   "metadata": {},
   "outputs": [],
   "source": []
  },
  {
   "cell_type": "code",
   "execution_count": null,
   "id": "0495815d",
   "metadata": {},
   "outputs": [],
   "source": []
  },
  {
   "cell_type": "code",
   "execution_count": null,
   "id": "82a26561",
   "metadata": {},
   "outputs": [],
   "source": []
  },
  {
   "cell_type": "code",
   "execution_count": null,
   "id": "612a4df5",
   "metadata": {},
   "outputs": [],
   "source": []
  },
  {
   "cell_type": "code",
   "execution_count": null,
   "id": "f343235c",
   "metadata": {},
   "outputs": [],
   "source": []
  },
  {
   "cell_type": "code",
   "execution_count": null,
   "id": "249f37b0",
   "metadata": {},
   "outputs": [],
   "source": []
  },
  {
   "cell_type": "code",
   "execution_count": null,
   "id": "8ce47e8e",
   "metadata": {},
   "outputs": [],
   "source": []
  },
  {
   "cell_type": "code",
   "execution_count": null,
   "id": "a786e3d5",
   "metadata": {},
   "outputs": [],
   "source": []
  },
  {
   "cell_type": "code",
   "execution_count": null,
   "id": "7ffd5ae0",
   "metadata": {},
   "outputs": [],
   "source": []
  },
  {
   "cell_type": "code",
   "execution_count": null,
   "id": "66e89971",
   "metadata": {},
   "outputs": [],
   "source": []
  },
  {
   "cell_type": "code",
   "execution_count": null,
   "id": "9ac587f5",
   "metadata": {},
   "outputs": [],
   "source": []
  },
  {
   "cell_type": "code",
   "execution_count": null,
   "id": "55cfd7b6",
   "metadata": {},
   "outputs": [],
   "source": []
  },
  {
   "cell_type": "code",
   "execution_count": null,
   "id": "b8d9de5b",
   "metadata": {},
   "outputs": [],
   "source": []
  },
  {
   "cell_type": "code",
   "execution_count": null,
   "id": "e86fd00b",
   "metadata": {},
   "outputs": [],
   "source": []
  },
  {
   "cell_type": "code",
   "execution_count": null,
   "id": "7f29ef6c",
   "metadata": {},
   "outputs": [],
   "source": []
  },
  {
   "cell_type": "code",
   "execution_count": null,
   "id": "ba7ec048",
   "metadata": {},
   "outputs": [],
   "source": []
  },
  {
   "cell_type": "code",
   "execution_count": null,
   "id": "34db5ffc",
   "metadata": {},
   "outputs": [],
   "source": []
  },
  {
   "cell_type": "code",
   "execution_count": null,
   "id": "c255eb3c",
   "metadata": {},
   "outputs": [],
   "source": []
  }
 ],
 "metadata": {
  "kernelspec": {
   "display_name": "Python 3 (ipykernel)",
   "language": "python",
   "name": "python3"
  },
  "language_info": {
   "codemirror_mode": {
    "name": "ipython",
    "version": 3
   },
   "file_extension": ".py",
   "mimetype": "text/x-python",
   "name": "python",
   "nbconvert_exporter": "python",
   "pygments_lexer": "ipython3",
   "version": "3.10.9"
  }
 },
 "nbformat": 4,
 "nbformat_minor": 5
}
